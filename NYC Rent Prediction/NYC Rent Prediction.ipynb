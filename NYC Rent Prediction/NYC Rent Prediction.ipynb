{
 "cells": [
  {
   "cell_type": "code",
   "execution_count": 1,
   "metadata": {
    "collapsed": false,
    "deletable": true,
    "editable": true
   },
   "outputs": [],
   "source": [
    "#load packages\n",
    "import urllib2"
   ]
  },
  {
   "cell_type": "code",
   "execution_count": 102,
   "metadata": {
    "collapsed": true
   },
   "outputs": [],
   "source": [
    "import pandas as pd\n",
    "import numpy as np\n",
    "import matplotlib.pyplot as plt\n",
    "% matplotlib inline\n",
    "import warnings\n",
    "warnings.filterwarnings('ignore')"
   ]
  },
  {
   "cell_type": "code",
   "execution_count": 4,
   "metadata": {
    "collapsed": false,
    "deletable": true,
    "editable": true,
    "scrolled": false
   },
   "outputs": [],
   "source": [
    "from sklearn.preprocessing import Imputer\n",
    "from sklearn.model_selection import train_test_split, cross_val_score\n",
    "from sklearn.linear_model import Ridge, LinearRegression, Lasso, RidgeCV, LassoCV\n",
    "from sklearn.feature_selection import SelectKBest, SelectPercentile, SelectFpr, RFE, RFECV,SelectFromModel\n",
    "from sklearn.preprocessing import PolynomialFeatures\n",
    "from sklearn.pipeline import make_pipeline\n",
    "from sklearn.grid_search import GridSearchCV"
   ]
  },
  {
   "cell_type": "code",
   "execution_count": 4,
   "metadata": {
    "collapsed": true,
    "deletable": true,
    "editable": true,
    "scrolled": false
   },
   "outputs": [],
   "source": [
    "response = urllib2.urlopen('https://ndownloader.figshare.com/files/7586326')\n",
    "data_file = open('data.csv', 'w')\n",
    "data_file.write(response.read())\n",
    "data_file.close()"
   ]
  },
  {
   "cell_type": "code",
   "execution_count": 5,
   "metadata": {
    "collapsed": false,
    "deletable": true,
    "editable": true,
    "scrolled": false
   },
   "outputs": [],
   "source": [
    "rent_df = pd.read_csv('data.csv', sep=',', header=0)"
   ]
  },
  {
   "cell_type": "code",
   "execution_count": 6,
   "metadata": {
    "collapsed": false
   },
   "outputs": [
    {
     "data": {
      "text/html": [
       "<div>\n",
       "<table border=\"1\" class=\"dataframe\">\n",
       "  <thead>\n",
       "    <tr style=\"text-align: right;\">\n",
       "      <th></th>\n",
       "      <th>recid</th>\n",
       "      <th>boro</th>\n",
       "      <th>uf1_1</th>\n",
       "      <th>uf1_2</th>\n",
       "      <th>uf1_3</th>\n",
       "      <th>uf1_4</th>\n",
       "      <th>uf1_5</th>\n",
       "      <th>uf1_6</th>\n",
       "      <th>uf1_7</th>\n",
       "      <th>uf1_8</th>\n",
       "      <th>...</th>\n",
       "      <th>hflag4</th>\n",
       "      <th>hflag18</th>\n",
       "      <th>uf52h_h</th>\n",
       "      <th>uf52h_a</th>\n",
       "      <th>uf52h_b</th>\n",
       "      <th>uf52h_c</th>\n",
       "      <th>uf52h_d</th>\n",
       "      <th>uf52h_e</th>\n",
       "      <th>uf52h_f</th>\n",
       "      <th>uf52h_g</th>\n",
       "    </tr>\n",
       "  </thead>\n",
       "  <tbody>\n",
       "    <tr>\n",
       "      <th>0</th>\n",
       "      <td>1</td>\n",
       "      <td>1</td>\n",
       "      <td>9</td>\n",
       "      <td>9</td>\n",
       "      <td>9</td>\n",
       "      <td>9</td>\n",
       "      <td>1</td>\n",
       "      <td>9</td>\n",
       "      <td>9</td>\n",
       "      <td>9</td>\n",
       "      <td>...</td>\n",
       "      <td>0</td>\n",
       "      <td>0</td>\n",
       "      <td>0</td>\n",
       "      <td>0</td>\n",
       "      <td>0</td>\n",
       "      <td>0</td>\n",
       "      <td>0</td>\n",
       "      <td>0</td>\n",
       "      <td>0</td>\n",
       "      <td>0</td>\n",
       "    </tr>\n",
       "    <tr>\n",
       "      <th>1</th>\n",
       "      <td>1</td>\n",
       "      <td>1</td>\n",
       "      <td>9</td>\n",
       "      <td>9</td>\n",
       "      <td>9</td>\n",
       "      <td>9</td>\n",
       "      <td>1</td>\n",
       "      <td>9</td>\n",
       "      <td>9</td>\n",
       "      <td>9</td>\n",
       "      <td>...</td>\n",
       "      <td>0</td>\n",
       "      <td>0</td>\n",
       "      <td>1</td>\n",
       "      <td>1</td>\n",
       "      <td>1</td>\n",
       "      <td>0</td>\n",
       "      <td>0</td>\n",
       "      <td>0</td>\n",
       "      <td>0</td>\n",
       "      <td>0</td>\n",
       "    </tr>\n",
       "    <tr>\n",
       "      <th>2</th>\n",
       "      <td>1</td>\n",
       "      <td>1</td>\n",
       "      <td>9</td>\n",
       "      <td>9</td>\n",
       "      <td>9</td>\n",
       "      <td>9</td>\n",
       "      <td>1</td>\n",
       "      <td>9</td>\n",
       "      <td>9</td>\n",
       "      <td>9</td>\n",
       "      <td>...</td>\n",
       "      <td>0</td>\n",
       "      <td>0</td>\n",
       "      <td>1</td>\n",
       "      <td>1</td>\n",
       "      <td>1</td>\n",
       "      <td>0</td>\n",
       "      <td>1</td>\n",
       "      <td>0</td>\n",
       "      <td>1</td>\n",
       "      <td>0</td>\n",
       "    </tr>\n",
       "    <tr>\n",
       "      <th>3</th>\n",
       "      <td>1</td>\n",
       "      <td>1</td>\n",
       "      <td>9</td>\n",
       "      <td>9</td>\n",
       "      <td>9</td>\n",
       "      <td>9</td>\n",
       "      <td>1</td>\n",
       "      <td>9</td>\n",
       "      <td>9</td>\n",
       "      <td>9</td>\n",
       "      <td>...</td>\n",
       "      <td>0</td>\n",
       "      <td>0</td>\n",
       "      <td>0</td>\n",
       "      <td>0</td>\n",
       "      <td>0</td>\n",
       "      <td>0</td>\n",
       "      <td>0</td>\n",
       "      <td>0</td>\n",
       "      <td>0</td>\n",
       "      <td>0</td>\n",
       "    </tr>\n",
       "    <tr>\n",
       "      <th>4</th>\n",
       "      <td>1</td>\n",
       "      <td>1</td>\n",
       "      <td>9</td>\n",
       "      <td>9</td>\n",
       "      <td>9</td>\n",
       "      <td>9</td>\n",
       "      <td>1</td>\n",
       "      <td>9</td>\n",
       "      <td>9</td>\n",
       "      <td>9</td>\n",
       "      <td>...</td>\n",
       "      <td>0</td>\n",
       "      <td>0</td>\n",
       "      <td>1</td>\n",
       "      <td>0</td>\n",
       "      <td>0</td>\n",
       "      <td>0</td>\n",
       "      <td>1</td>\n",
       "      <td>0</td>\n",
       "      <td>0</td>\n",
       "      <td>0</td>\n",
       "    </tr>\n",
       "  </tbody>\n",
       "</table>\n",
       "<p>5 rows × 197 columns</p>\n",
       "</div>"
      ],
      "text/plain": [
       "   recid  boro  uf1_1  uf1_2  uf1_3  uf1_4  uf1_5  uf1_6  uf1_7  uf1_8  \\\n",
       "0      1     1      9      9      9      9      1      9      9      9   \n",
       "1      1     1      9      9      9      9      1      9      9      9   \n",
       "2      1     1      9      9      9      9      1      9      9      9   \n",
       "3      1     1      9      9      9      9      1      9      9      9   \n",
       "4      1     1      9      9      9      9      1      9      9      9   \n",
       "\n",
       "    ...     hflag4  hflag18  uf52h_h  uf52h_a  uf52h_b  uf52h_c  uf52h_d  \\\n",
       "0   ...          0        0        0        0        0        0        0   \n",
       "1   ...          0        0        1        1        1        0        0   \n",
       "2   ...          0        0        1        1        1        0        1   \n",
       "3   ...          0        0        0        0        0        0        0   \n",
       "4   ...          0        0        1        0        0        0        1   \n",
       "\n",
       "   uf52h_e  uf52h_f  uf52h_g  \n",
       "0        0        0        0  \n",
       "1        0        0        0  \n",
       "2        0        1        0  \n",
       "3        0        0        0  \n",
       "4        0        0        0  \n",
       "\n",
       "[5 rows x 197 columns]"
      ]
     },
     "execution_count": 6,
     "metadata": {},
     "output_type": "execute_result"
    }
   ],
   "source": [
    "rent_df.head()"
   ]
  },
  {
   "cell_type": "code",
   "execution_count": 30,
   "metadata": {
    "collapsed": true,
    "deletable": true,
    "editable": true,
    "scrolled": false
   },
   "outputs": [],
   "source": [
    "new_rentdf = rent_df[rent_df.uf17<5500]"
   ]
  },
  {
   "cell_type": "code",
   "execution_count": 31,
   "metadata": {
    "collapsed": false,
    "deletable": true,
    "editable": true,
    "scrolled": false
   },
   "outputs": [],
   "source": [
    "data_x = new_rentdf.drop(\"uf17\",1)\n",
    "data_y = new_rentdf.ix[:,\"uf17\"]"
   ]
  },
  {
   "cell_type": "code",
   "execution_count": 35,
   "metadata": {
    "collapsed": false
   },
   "outputs": [],
   "source": [
    "data_x = preprocess(data_x)"
   ]
  },
  {
   "cell_type": "code",
   "execution_count": 36,
   "metadata": {
    "collapsed": true,
    "deletable": true,
    "editable": true,
    "scrolled": false
   },
   "outputs": [],
   "source": [
    "x_train, x_test, y_train, y_test = train_test_split(data_x, data_y, test_size=0.3)"
   ]
  },
  {
   "cell_type": "code",
   "execution_count": 37,
   "metadata": {
    "collapsed": false
   },
   "outputs": [],
   "source": [
    "x_train_dummies = pd.get_dummies(x_train, columns=x_train.columns)"
   ]
  },
  {
   "cell_type": "markdown",
   "metadata": {},
   "source": [
    "# Review of Feature Importance / Feature Selections"
   ]
  },
  {
   "cell_type": "code",
   "execution_count": 38,
   "metadata": {
    "collapsed": false
   },
   "outputs": [
    {
     "name": "stderr",
     "output_type": "stream",
     "text": [
      "/Users/hoadang/anaconda/lib/python3.5/site-packages/sklearn/utils/validation.py:429: DataConversionWarning: Data with input dtype uint8 was converted to float64 by the scale function.\n",
      "  warnings.warn(msg, _DataConversionWarning)\n",
      "/Users/hoadang/anaconda/lib/python3.5/site-packages/sklearn/utils/validation.py:429: DataConversionWarning: Data with input dtype int64 was converted to float64 by the scale function.\n",
      "  warnings.warn(msg, _DataConversionWarning)\n"
     ]
    }
   ],
   "source": [
    "from sklearn.feature_selection import mutual_info_regression\n",
    "mi = mutual_info_regression(x_train_dummies, y_train)"
   ]
  },
  {
   "cell_type": "code",
   "execution_count": 50,
   "metadata": {
    "collapsed": false
   },
   "outputs": [
    {
     "data": {
      "text/plain": [
       "(0, 20)"
      ]
     },
     "execution_count": 50,
     "metadata": {},
     "output_type": "execute_result"
    },
    {
     "data": {
      "image/png": "[encoded data removed]",
      "text/plain": [
       "<matplotlib.figure.Figure at 0x112573c18>"
      ]
     },
     "metadata": {},
     "output_type": "display_data"
    }
   ],
   "source": [
    "top_n = 20\n",
    "inds = np.argsort(mi)\n",
    "plt.figure(figsize=(5, 15))\n",
    "plt.barh(np.arange(top_n), mi[inds[-top_n:]])\n",
    "plt.yticks(np.arange(top_n), x_train_dummies.columns[inds[-top_n:]])\n",
    "plt.ylim(0, top_n)"
   ]
  },
  {
   "cell_type": "code",
   "execution_count": 42,
   "metadata": {
    "collapsed": false
   },
   "outputs": [],
   "source": [
    "from sklearn.feature_selection import f_regression\n",
    "F, p = f_regression(x_train_dummies, y_train)"
   ]
  },
  {
   "cell_type": "code",
   "execution_count": 51,
   "metadata": {
    "collapsed": false
   },
   "outputs": [
    {
     "data": {
      "text/plain": [
       "(0, 20)"
      ]
     },
     "execution_count": 51,
     "metadata": {},
     "output_type": "execute_result"
    },
    {
     "data": {
      "image/png": "[encoded data removed]",
      "text/plain": [
       "<matplotlib.figure.Figure at 0x1120b7f60>"
      ]
     },
     "metadata": {},
     "output_type": "display_data"
    }
   ],
   "source": [
    "top_n = 20\n",
    "inds = np.argsort(F)\n",
    "plt.figure(figsize=(5, 15))\n",
    "plt.barh(np.arange(top_n), F[inds[-top_n:]])\n",
    "plt.yticks(np.arange(top_n), x_train_dummies.columns[inds[-top_n:]])\n",
    "plt.ylim(0, top_n)"
   ]
  },
  {
   "cell_type": "code",
   "execution_count": null,
   "metadata": {
    "collapsed": true
   },
   "outputs": [],
   "source": []
  },
  {
   "cell_type": "code",
   "execution_count": 45,
   "metadata": {
    "collapsed": false
   },
   "outputs": [
    {
     "data": {
      "text/plain": [
       "array([ 0.58639169,  0.50581229,  0.56097355,  0.57572162,  0.47515546])"
      ]
     },
     "execution_count": 45,
     "metadata": {},
     "output_type": "execute_result"
    }
   ],
   "source": [
    "cross_val_score(RidgeCV(alphas=np.logspace(-3, 3, 7)),\n",
    "                x_train_dummies, y_train, cv=5)"
   ]
  },
  {
   "cell_type": "code",
   "execution_count": 48,
   "metadata": {
    "collapsed": false
   },
   "outputs": [],
   "source": [
    "ridge = RidgeCV(alphas=np.logspace(-3, 3, 7)).fit(x_train_dummies, y_train)"
   ]
  },
  {
   "cell_type": "code",
   "execution_count": 52,
   "metadata": {
    "collapsed": false
   },
   "outputs": [
    {
     "data": {
      "text/plain": [
       "(0, 20)"
      ]
     },
     "execution_count": 52,
     "metadata": {},
     "output_type": "execute_result"
    },
    {
     "data": {
      "image/png": "[encoded data removed]",
      "text/plain": [
       "<matplotlib.figure.Figure at 0x1122428d0>"
      ]
     },
     "metadata": {},
     "output_type": "display_data"
    }
   ],
   "source": [
    "top_n = 20\n",
    "coef = ridge.coef_\n",
    "inds = np.argsort(coef)\n",
    "inds = np.hstack([inds[:top_n // 2], inds[-top_n//2:]])\n",
    "plt.figure(figsize=(5, 15))\n",
    "plt.barh(np.arange(top_n), coef[inds])\n",
    "plt.yticks(np.arange(top_n), x_train_dummies.columns[inds])\n",
    "plt.ylim(0, top_n)"
   ]
  },
  {
   "cell_type": "markdown",
   "metadata": {},
   "source": [
    "From several feature selection methods, we can see that the most important variable appear to be new_csr_80. I'd like to look further into this variable."
   ]
  },
  {
   "cell_type": "markdown",
   "metadata": {},
   "source": [
    "# Feature Breakdown: new_csr"
   ]
  },
  {
   "cell_type": "code",
   "execution_count": 54,
   "metadata": {
    "collapsed": false
   },
   "outputs": [
    {
     "data": {
      "text/plain": [
       "80    3580\n",
       "30    3532\n",
       "31    1204\n",
       "5      858\n",
       "95     422\n",
       "85     214\n",
       "21     164\n",
       "90     131\n",
       "23      10\n",
       "20      10\n",
       "22       4\n",
       "Name: new_csr, dtype: int64"
      ]
     },
     "execution_count": 54,
     "metadata": {},
     "output_type": "execute_result"
    }
   ],
   "source": [
    "data_x[\"new_csr\"].value_counts()"
   ]
  },
  {
   "cell_type": "code",
   "execution_count": 55,
   "metadata": {
    "collapsed": true
   },
   "outputs": [],
   "source": [
    "codes = \"\"\"01=Owner occupied conventional\n",
    "02=Owner occupied private cooperative\n",
    "05=Public housing\n",
    "12=Owner occupied condo\n",
    "20=Article 4 or 5 building\n",
    "21=HUD regulated\n",
    "22=Loft Board regulated building\n",
    "23=Municipal Loan Program\n",
    "30=Stabilized pre 1947\n",
    "31=Stabilized post 1947\n",
    "80=Other rental\n",
    "85=Mitchell Lama rental\n",
    "86=Mitchell Lama cooperative\n",
    "87=Mitchell Lama type cooperative\n",
    "90=Controlled\n",
    "95=In Rem\"\"\""
   ]
  },
  {
   "cell_type": "code",
   "execution_count": 64,
   "metadata": {
    "collapsed": false
   },
   "outputs": [
    {
     "data": {
      "text/plain": [
       "Other rental                     3580\n",
       "Stabilized pre 1947              3532\n",
       "Stabilized post 1947             1204\n",
       "Public housing                    858\n",
       "In Rem                            422\n",
       "Mitchell Lama rental              214\n",
       "HUD regulated                     164\n",
       "Controlled                        131\n",
       "Municipal Loan Program             10\n",
       "Article 4 or 5 building            10\n",
       "Loft Board regulated building       4\n",
       "Name: new_csr, dtype: int64"
      ]
     },
     "execution_count": 64,
     "metadata": {},
     "output_type": "execute_result"
    }
   ],
   "source": [
    "code_dict = {int(code.split(\"=\")[0]): code.split(\"=\")[1] for code in codes.split(\"\\n\")}\n",
    "data_x[\"new_csr\"].value_counts().rename_axis(code_dict, axis=0)"
   ]
  },
  {
   "cell_type": "code",
   "execution_count": 62,
   "metadata": {
    "collapsed": false
   },
   "outputs": [],
   "source": [
    "groups = data_y.groupby(data_x[\"new_csr\"])"
   ]
  },
  {
   "cell_type": "code",
   "execution_count": 63,
   "metadata": {
    "collapsed": false
   },
   "outputs": [
    {
     "data": {
      "image/png": "[encoded data removed]",
      "text/plain": [
       "<matplotlib.figure.Figure at 0x111c45ef0>"
      ]
     },
     "metadata": {},
     "output_type": "display_data"
    }
   ],
   "source": [
    "fig, axes = plt.subplots(3, len(groups) // 3 + 1, figsize=(15, 5))\n",
    "for ax, (val, group) in zip(axes.ravel(), groups):\n",
    "    group.hist(ax=ax, bins=25)\n",
    "    ax.set_xlim(0, 8000)\n",
    "    ax.set_title(\"{}: {}\".format(val, code_dict[val]))\n",
    "\n",
    "    plt.tight_layout()"
   ]
  },
  {
   "cell_type": "markdown",
   "metadata": {},
   "source": [
    "Looks like code 80 are rents that are not stablized - thus it would make sense for us to only include these rents. Other rent stablized samples are not relevant to this analysis as to our goal of predicting the rents. "
   ]
  },
  {
   "cell_type": "code",
   "execution_count": 66,
   "metadata": {
    "collapsed": true
   },
   "outputs": [],
   "source": [
    "not_stabilized = data_x[\"new_csr\"] == 80\n",
    "data_not_stabilized = data_x[not_stabilized]\n",
    "y_not_stabilized = data_y[not_stabilized]"
   ]
  },
  {
   "cell_type": "code",
   "execution_count": 93,
   "metadata": {
    "collapsed": false
   },
   "outputs": [],
   "source": [
    "imp = Imputer(strategy=\"most_frequent\").fit(data_not_stabilized)\n",
    "X_mostfreq = imp.transform(data_not_stabilized)\n",
    "    \n",
    "x_mostfreq = pd.DataFrame(X_mostfreq)\n",
    "x_mostfreq.columns = data_not_stabilized.columns"
   ]
  },
  {
   "cell_type": "code",
   "execution_count": 94,
   "metadata": {
    "collapsed": false
   },
   "outputs": [
    {
     "data": {
      "text/html": [
       "<div>\n",
       "<table border=\"1\" class=\"dataframe\">\n",
       "  <thead>\n",
       "    <tr style=\"text-align: right;\">\n",
       "      <th></th>\n",
       "      <th>boro</th>\n",
       "      <th>uf1_1</th>\n",
       "      <th>uf1_2</th>\n",
       "      <th>uf1_3</th>\n",
       "      <th>uf1_4</th>\n",
       "      <th>uf1_5</th>\n",
       "      <th>uf1_6</th>\n",
       "      <th>uf1_7</th>\n",
       "      <th>uf1_8</th>\n",
       "      <th>uf1_9</th>\n",
       "      <th>...</th>\n",
       "      <th>rec15</th>\n",
       "      <th>sc26</th>\n",
       "      <th>uf23</th>\n",
       "      <th>rec21</th>\n",
       "      <th>rec62</th>\n",
       "      <th>rec64</th>\n",
       "      <th>rec54</th>\n",
       "      <th>rec53</th>\n",
       "      <th>rec39</th>\n",
       "      <th>cd</th>\n",
       "    </tr>\n",
       "  </thead>\n",
       "  <tbody>\n",
       "    <tr>\n",
       "      <th>0</th>\n",
       "      <td>1.0</td>\n",
       "      <td>0.0</td>\n",
       "      <td>0.0</td>\n",
       "      <td>0.0</td>\n",
       "      <td>0.0</td>\n",
       "      <td>1.0</td>\n",
       "      <td>0.0</td>\n",
       "      <td>0.0</td>\n",
       "      <td>0.0</td>\n",
       "      <td>0.0</td>\n",
       "      <td>...</td>\n",
       "      <td>13.0</td>\n",
       "      <td>16.0</td>\n",
       "      <td>2.0</td>\n",
       "      <td>1.0</td>\n",
       "      <td>1.0</td>\n",
       "      <td>1.0</td>\n",
       "      <td>1.0</td>\n",
       "      <td>1.0</td>\n",
       "      <td>1.0</td>\n",
       "      <td>1.0</td>\n",
       "    </tr>\n",
       "    <tr>\n",
       "      <th>1</th>\n",
       "      <td>1.0</td>\n",
       "      <td>0.0</td>\n",
       "      <td>0.0</td>\n",
       "      <td>0.0</td>\n",
       "      <td>0.0</td>\n",
       "      <td>1.0</td>\n",
       "      <td>0.0</td>\n",
       "      <td>0.0</td>\n",
       "      <td>0.0</td>\n",
       "      <td>0.0</td>\n",
       "      <td>...</td>\n",
       "      <td>1.0</td>\n",
       "      <td>16.0</td>\n",
       "      <td>9.0</td>\n",
       "      <td>1.0</td>\n",
       "      <td>1.0</td>\n",
       "      <td>1.0</td>\n",
       "      <td>2.0</td>\n",
       "      <td>2.0</td>\n",
       "      <td>1.0</td>\n",
       "      <td>1.0</td>\n",
       "    </tr>\n",
       "    <tr>\n",
       "      <th>2</th>\n",
       "      <td>1.0</td>\n",
       "      <td>0.0</td>\n",
       "      <td>0.0</td>\n",
       "      <td>0.0</td>\n",
       "      <td>0.0</td>\n",
       "      <td>1.0</td>\n",
       "      <td>0.0</td>\n",
       "      <td>0.0</td>\n",
       "      <td>0.0</td>\n",
       "      <td>0.0</td>\n",
       "      <td>...</td>\n",
       "      <td>3.0</td>\n",
       "      <td>16.0</td>\n",
       "      <td>1.0</td>\n",
       "      <td>1.0</td>\n",
       "      <td>1.0</td>\n",
       "      <td>1.0</td>\n",
       "      <td>1.0</td>\n",
       "      <td>2.0</td>\n",
       "      <td>1.0</td>\n",
       "      <td>1.0</td>\n",
       "    </tr>\n",
       "    <tr>\n",
       "      <th>3</th>\n",
       "      <td>1.0</td>\n",
       "      <td>0.0</td>\n",
       "      <td>0.0</td>\n",
       "      <td>0.0</td>\n",
       "      <td>0.0</td>\n",
       "      <td>1.0</td>\n",
       "      <td>0.0</td>\n",
       "      <td>0.0</td>\n",
       "      <td>0.0</td>\n",
       "      <td>0.0</td>\n",
       "      <td>...</td>\n",
       "      <td>3.0</td>\n",
       "      <td>16.0</td>\n",
       "      <td>1.0</td>\n",
       "      <td>1.0</td>\n",
       "      <td>1.0</td>\n",
       "      <td>1.0</td>\n",
       "      <td>1.0</td>\n",
       "      <td>1.0</td>\n",
       "      <td>3.0</td>\n",
       "      <td>1.0</td>\n",
       "    </tr>\n",
       "    <tr>\n",
       "      <th>4</th>\n",
       "      <td>1.0</td>\n",
       "      <td>0.0</td>\n",
       "      <td>0.0</td>\n",
       "      <td>0.0</td>\n",
       "      <td>0.0</td>\n",
       "      <td>1.0</td>\n",
       "      <td>0.0</td>\n",
       "      <td>0.0</td>\n",
       "      <td>0.0</td>\n",
       "      <td>0.0</td>\n",
       "      <td>...</td>\n",
       "      <td>3.0</td>\n",
       "      <td>16.0</td>\n",
       "      <td>1.0</td>\n",
       "      <td>1.0</td>\n",
       "      <td>1.0</td>\n",
       "      <td>1.0</td>\n",
       "      <td>1.0</td>\n",
       "      <td>1.0</td>\n",
       "      <td>2.0</td>\n",
       "      <td>1.0</td>\n",
       "    </tr>\n",
       "    <tr>\n",
       "      <th>5</th>\n",
       "      <td>1.0</td>\n",
       "      <td>0.0</td>\n",
       "      <td>0.0</td>\n",
       "      <td>0.0</td>\n",
       "      <td>0.0</td>\n",
       "      <td>1.0</td>\n",
       "      <td>0.0</td>\n",
       "      <td>0.0</td>\n",
       "      <td>0.0</td>\n",
       "      <td>0.0</td>\n",
       "      <td>...</td>\n",
       "      <td>3.0</td>\n",
       "      <td>16.0</td>\n",
       "      <td>1.0</td>\n",
       "      <td>1.0</td>\n",
       "      <td>1.0</td>\n",
       "      <td>1.0</td>\n",
       "      <td>4.0</td>\n",
       "      <td>4.0</td>\n",
       "      <td>1.0</td>\n",
       "      <td>1.0</td>\n",
       "    </tr>\n",
       "    <tr>\n",
       "      <th>6</th>\n",
       "      <td>1.0</td>\n",
       "      <td>0.0</td>\n",
       "      <td>0.0</td>\n",
       "      <td>0.0</td>\n",
       "      <td>0.0</td>\n",
       "      <td>1.0</td>\n",
       "      <td>0.0</td>\n",
       "      <td>0.0</td>\n",
       "      <td>0.0</td>\n",
       "      <td>0.0</td>\n",
       "      <td>...</td>\n",
       "      <td>13.0</td>\n",
       "      <td>16.0</td>\n",
       "      <td>9.0</td>\n",
       "      <td>1.0</td>\n",
       "      <td>1.0</td>\n",
       "      <td>1.0</td>\n",
       "      <td>4.0</td>\n",
       "      <td>5.0</td>\n",
       "      <td>3.0</td>\n",
       "      <td>1.0</td>\n",
       "    </tr>\n",
       "    <tr>\n",
       "      <th>7</th>\n",
       "      <td>1.0</td>\n",
       "      <td>0.0</td>\n",
       "      <td>0.0</td>\n",
       "      <td>0.0</td>\n",
       "      <td>0.0</td>\n",
       "      <td>1.0</td>\n",
       "      <td>0.0</td>\n",
       "      <td>0.0</td>\n",
       "      <td>0.0</td>\n",
       "      <td>0.0</td>\n",
       "      <td>...</td>\n",
       "      <td>2.0</td>\n",
       "      <td>16.0</td>\n",
       "      <td>7.0</td>\n",
       "      <td>1.0</td>\n",
       "      <td>1.0</td>\n",
       "      <td>1.0</td>\n",
       "      <td>5.0</td>\n",
       "      <td>5.0</td>\n",
       "      <td>3.0</td>\n",
       "      <td>1.0</td>\n",
       "    </tr>\n",
       "  </tbody>\n",
       "</table>\n",
       "<p>8 rows × 72 columns</p>\n",
       "</div>"
      ],
      "text/plain": [
       "   boro  uf1_1  uf1_2  uf1_3  uf1_4  uf1_5  uf1_6  uf1_7  uf1_8  uf1_9 ...   \\\n",
       "0   1.0    0.0    0.0    0.0    0.0    1.0    0.0    0.0    0.0    0.0 ...    \n",
       "1   1.0    0.0    0.0    0.0    0.0    1.0    0.0    0.0    0.0    0.0 ...    \n",
       "2   1.0    0.0    0.0    0.0    0.0    1.0    0.0    0.0    0.0    0.0 ...    \n",
       "3   1.0    0.0    0.0    0.0    0.0    1.0    0.0    0.0    0.0    0.0 ...    \n",
       "4   1.0    0.0    0.0    0.0    0.0    1.0    0.0    0.0    0.0    0.0 ...    \n",
       "5   1.0    0.0    0.0    0.0    0.0    1.0    0.0    0.0    0.0    0.0 ...    \n",
       "6   1.0    0.0    0.0    0.0    0.0    1.0    0.0    0.0    0.0    0.0 ...    \n",
       "7   1.0    0.0    0.0    0.0    0.0    1.0    0.0    0.0    0.0    0.0 ...    \n",
       "\n",
       "   rec15  sc26  uf23  rec21  rec62  rec64  rec54  rec53  rec39   cd  \n",
       "0   13.0  16.0   2.0    1.0    1.0    1.0    1.0    1.0    1.0  1.0  \n",
       "1    1.0  16.0   9.0    1.0    1.0    1.0    2.0    2.0    1.0  1.0  \n",
       "2    3.0  16.0   1.0    1.0    1.0    1.0    1.0    2.0    1.0  1.0  \n",
       "3    3.0  16.0   1.0    1.0    1.0    1.0    1.0    1.0    3.0  1.0  \n",
       "4    3.0  16.0   1.0    1.0    1.0    1.0    1.0    1.0    2.0  1.0  \n",
       "5    3.0  16.0   1.0    1.0    1.0    1.0    4.0    4.0    1.0  1.0  \n",
       "6   13.0  16.0   9.0    1.0    1.0    1.0    4.0    5.0    3.0  1.0  \n",
       "7    2.0  16.0   7.0    1.0    1.0    1.0    5.0    5.0    3.0  1.0  \n",
       "\n",
       "[8 rows x 72 columns]"
      ]
     },
     "execution_count": 94,
     "metadata": {},
     "output_type": "execute_result"
    }
   ],
   "source": [
    "x_mostfreq.head(8)"
   ]
  },
  {
   "cell_type": "code",
   "execution_count": 95,
   "metadata": {
    "collapsed": true
   },
   "outputs": [],
   "source": [
    "x_train,x_test,y_train,y_test = train_test_split(x_mostfreq, y_not_stabilized)"
   ]
  },
  {
   "cell_type": "code",
   "execution_count": 96,
   "metadata": {
    "collapsed": true
   },
   "outputs": [],
   "source": [
    "x_train = pd.get_dummies(x_train)"
   ]
  },
  {
   "cell_type": "markdown",
   "metadata": {},
   "source": [
    "# Fitting models"
   ]
  },
  {
   "cell_type": "code",
   "execution_count": 97,
   "metadata": {
    "collapsed": false
   },
   "outputs": [
    {
     "data": {
      "text/plain": [
       "array([ 0.66231953,  0.61956391,  0.65718726,  0.66175364,  0.56301637])"
      ]
     },
     "execution_count": 97,
     "metadata": {},
     "output_type": "execute_result"
    }
   ],
   "source": [
    "from sklearn.ensemble import RandomForestRegressor\n",
    "cross_val_score(RandomForestRegressor(max_depth=20, n_estimators=100, n_jobs=3),\n",
    "                x_train, y_train, cv=5)"
   ]
  },
  {
   "cell_type": "markdown",
   "metadata": {},
   "source": [
    "We see a significant improvement in scoring from RidgeCV above, on the all rent types data set."
   ]
  },
  {
   "cell_type": "code",
   "execution_count": 103,
   "metadata": {
    "collapsed": false
   },
   "outputs": [
    {
     "data": {
      "text/plain": [
       "array([ 0.53640393,  0.46870295,  0.49438022,  0.51205475,  0.43801959])"
      ]
     },
     "execution_count": 103,
     "metadata": {},
     "output_type": "execute_result"
    }
   ],
   "source": [
    "from sklearn.preprocessing import PolynomialFeatures\n",
    "from sklearn.feature_selection import VarianceThreshold, SelectPercentile\n",
    "from sklearn.pipeline import make_pipeline \n",
    "\n",
    "pipe = make_pipeline(SelectPercentile(score_func=f_regression, percentile=30), PolynomialFeatures(interaction_only=True), VarianceThreshold(),\n",
    "                     RidgeCV(alphas=np.logspace(-3, 3, 7)))\n",
    "cross_val_score(pipe, x_train, y_train, cv=5)"
   ]
  },
  {
   "cell_type": "code",
   "execution_count": 105,
   "metadata": {
    "collapsed": false
   },
   "outputs": [
    {
     "data": {
      "text/plain": [
       "GridSearchCV(cv=5, error_score='raise',\n",
       "       estimator=Pipeline(steps=[('selectpercentile', SelectPercentile(percentile=50,\n",
       "         score_func=<function f_regression at 0x1116bdf28>)), ('polynomialfeatures', PolynomialFeatures(degree=2, include_bias=True, interaction_only=True)), ('variancethreshold', VarianceThreshold(threshold=0.0)), ('ridgecv', RidgeCV(alpha...None, fit_intercept=True, gcv_mode=None, normalize=False,\n",
       "    scoring=None, store_cv_values=False))]),\n",
       "       fit_params={}, iid=True, n_jobs=1,\n",
       "       param_grid={'polynomialfeatures__degree': [1, 2], 'selectpercentile__percentile': [1, 5, 10, 20, 30, 50]},\n",
       "       pre_dispatch='2*n_jobs', refit=True, return_train_score=True,\n",
       "       scoring=None, verbose=0)"
      ]
     },
     "execution_count": 105,
     "metadata": {},
     "output_type": "execute_result"
    }
   ],
   "source": [
    "from sklearn.model_selection import GridSearchCV\n",
    "\n",
    "pipe = make_pipeline(SelectPercentile(score_func=f_regression, percentile=50), PolynomialFeatures(interaction_only=True), VarianceThreshold(),\n",
    "                     RidgeCV(alphas=np.logspace(-3, 3, 7)))\n",
    "param_grid = {'selectpercentile__percentile': [1, 5, 10, 20, 30, 50], 'polynomialfeatures__degree': [1, 2]}\n",
    "grid = GridSearchCV(pipe, param_grid, cv=5)\n",
    "grid.fit(x_train, y_train)"
   ]
  },
  {
   "cell_type": "code",
   "execution_count": 106,
   "metadata": {
    "collapsed": false
   },
   "outputs": [
    {
     "data": {
      "text/plain": [
       "0.52854672375570577"
      ]
     },
     "execution_count": 106,
     "metadata": {},
     "output_type": "execute_result"
    }
   ],
   "source": [
    "grid.best_score_"
   ]
  },
  {
   "cell_type": "code",
   "execution_count": 108,
   "metadata": {
    "collapsed": false
   },
   "outputs": [
    {
     "data": {
      "text/plain": [
       "{'polynomialfeatures__degree': 2, 'selectpercentile__percentile': 50}"
      ]
     },
     "execution_count": 108,
     "metadata": {},
     "output_type": "execute_result"
    }
   ],
   "source": [
    "grid.best_params_"
   ]
  },
  {
   "cell_type": "markdown",
   "metadata": {},
   "source": [
    "# Helper and Prediction function using Lasso\n",
    " - Plug values in and get out results"
   ]
  },
  {
   "cell_type": "code",
   "execution_count": 34,
   "metadata": {
    "collapsed": true,
    "deletable": true,
    "editable": true,
    "scrolled": false
   },
   "outputs": [],
   "source": [
    "def valuechange(data, col,n,k):\n",
    "    #n is the value to be change, k is the replacing value\n",
    "    temp = [k if x==n else x for x in list(data[col])]\n",
    "    data[col] = temp"
   ]
  },
  {
   "cell_type": "code",
   "execution_count": 32,
   "metadata": {
    "collapsed": true,
    "deletable": true,
    "editable": true,
    "scrolled": false
   },
   "outputs": [],
   "source": [
    "def preprocess(data): \n",
    "    \n",
    "    # Drop Unnecessary Columns\n",
    "    drops = ['uf6','seqno','recid','hhr2', 'hhr5', 'uf43', 'race1', 'uf2a',\n",
    "        'uf2b', 'sc51', 'sc52', 'sc53', 'sc54', 'sc110', 'sc111', 'sc112',\n",
    "        'sc113', 'sc115', 'sc116', 'sc117', 'sc118','sc120','sc121','uf5',\n",
    "        'sc125','sc127','uf7','sc134','uf7a','uf9','sc140','sc141','sc143',\n",
    "        'sc144','uf10','sc159','uf12','sc161','uf14','sc164','sc166','uf16',\n",
    "        'sc174','uf64','sc181','sc541','sc184','sc542','sc543','sc544','uf17a',\n",
    "        'sc548','sc549','sc550','sc551','sc570','sc574','sc560','uf53','uf54',\n",
    "        'uf19','sc27','rec1','uf46','rec4','rec_race_a','rec_race_c',\n",
    "         'tot_per','rec28','uf26','uf28','uf27','uf42','uf42a','uf34','uf34a',\n",
    "         'uf35','uf35a','uf36','uf36a','uf37','uf37a','uf38','uf38a','uf39','uf39a',\n",
    "        'uf40','uf40a','uf30','uf29','rec8','rec7','fw','chufw','flg_sx1','flg_ag1',\n",
    "       'flg_hs1','flg_rc1','hflag2','hflag1','hflag13','hflag9','hflag10','hflag91',\n",
    "        'hflag11','hflag12','hflag18','uf52h_h','uf52h_a','uf52h_b','uf52h_c',\n",
    "        'uf52h_d','uf52h_e','uf52h_f','uf52h_g','uf8','uf13','uf15','hflag6',\n",
    "        'hflag3', 'hflag14', 'hflag16', 'hflag7', 'hflag4']\n",
    "    \n",
    "    new_data = data.drop(drops, axis=1)\n",
    "    \n",
    "    # Find None Values\n",
    "    change8_to_none = ['sc23', 'sc24', 'sc36', 'sc37', 'sc38','sc147',\n",
    "                   'sc154','sc157','sc185','sc186','sc187','sc188','sc198',\n",
    "                 'sc190','sc191','sc192','sc194','sc196','sc199','sc575',\n",
    "                   'rec21','sc173','sc197','sc571','sc189']\n",
    "\n",
    "    for col in change8_to_none: \n",
    "        valuechange(new_data, col,8,None)\n",
    "\n",
    "\n",
    "    change89 = ['uf1_1', 'uf1_2', 'uf1_3', 'uf1_4', 'uf1_5', 'uf1_6',\n",
    "               'uf1_7', 'uf1_8', 'uf1_9', 'uf1_10', 'uf1_11', 'uf1_12',\n",
    "               'uf1_13', 'uf1_14', 'uf1_15', 'uf1_16', 'uf1_35', 'uf1_17',\n",
    "               'uf1_18', 'uf1_19', 'uf1_20', 'uf1_21', 'uf1_22']\n",
    "\n",
    "    for col in change89:\n",
    "        valuechange(new_data, col,8,None)\n",
    "        valuechange(new_data, col,9,0)\n",
    "\n",
    "    # Other one-off value changes\n",
    "    valuechange(new_data, 'sc173',3,None)\n",
    "    valuechange(new_data, 'sc197',4,None)\n",
    "    valuechange(new_data, 'sc571',5,None)\n",
    "    valuechange(new_data, 'sc193',9,3)\n",
    "    valuechange(new_data, 'rec54',7,None)\n",
    "    valuechange(new_data, 'rec53',9,None)\n",
    "    \n",
    "    return new_data"
   ]
  },
  {
   "cell_type": "code",
   "execution_count": 109,
   "metadata": {
    "collapsed": true,
    "deletable": true,
    "editable": true,
    "scrolled": false
   },
   "outputs": [],
   "source": [
    "def make_pipeline(x_data, y_data):\n",
    "    \n",
    "    #new_data = preprocess(x_data)\n",
    "    new_data = x_data\n",
    "    \n",
    "    # Impute Missing Data \n",
    "    imp = Imputer(strategy=\"most_frequent\").fit(new_data)\n",
    "    X_mostfreq = imp.transform(new_data)\n",
    "    \n",
    "    mod_data = pd.DataFrame(X_mostfreq)\n",
    "    mod_data.columns = new_data.columns\n",
    "    \n",
    "    for col in mod_data.columns.tolist():\n",
    "        mod_data[col] = mod_data[col].astype(\"category\")\n",
    "           \n",
    "    rfe = RFE(Lasso(),50) #Recursive Feature Selections for top 50 features\n",
    "    rfe.fit(mod_data,y_data)\n",
    "    \n",
    "    mod_data = mod_data.ix[:,mod_data.columns[rfe.support_]]\n",
    "    \n",
    "    #Transform X train to polynomial features\n",
    "    poly = PolynomialFeatures()\n",
    "    x_poly = poly.fit_transform(mod_data)\n",
    "    \n",
    "    model = RandomForestRegressor(max_depth=20, n_estimators=100, n_jobs=3) #iteration set to 10000 to ensure convergence\n",
    "    model.fit(x_poly, y_data)\n",
    "    \n",
    "    return (imp, rfe, poly, model)"
   ]
  },
  {
   "cell_type": "code",
   "execution_count": 86,
   "metadata": {
    "collapsed": true,
    "deletable": true,
    "editable": true,
    "scrolled": false
   },
   "outputs": [],
   "source": [
    "def transform_data(data, imp, rfe, poly, model):\n",
    "    transform_data = x_test\n",
    "    \n",
    "    imputed_data = imp.transform(transform_data)\n",
    "    \n",
    "    imputed_data = pd.DataFrame(imputed_data)\n",
    "    \n",
    "    imputed_data.columns = transform_data.columns\n",
    "    \n",
    "    for col in imputed_data.columns.tolist():\n",
    "        imputed_data[col] = imputed_data[col].astype(\"category\")\n",
    "    \n",
    "    imputed_data = imputed_data.ix[:,imputed_data.columns[rfe.support_]]\n",
    "    \n",
    "    poly_data = poly.fit_transform(imputed_data)     \n",
    "    \n",
    "    return poly_data"
   ]
  },
  {
   "cell_type": "code",
   "execution_count": 87,
   "metadata": {
    "collapsed": true,
    "deletable": true,
    "editable": true,
    "scrolled": false
   },
   "outputs": [],
   "source": [
    "def predict(x_test, imp, rfe, poly, model): \n",
    "    data_transform = transform_data(x_test, imp, rfe, poly, model)\n",
    "    \n",
    "    return model.predict(data_transform)\n",
    "\n",
    "def predict_rent(x_test, y_true, imp, rfe, poly, model):\n",
    "    prediction_output = predict(x_test, imp, rfe, poly, model)\n",
    "    return {\"data\":x_test, \"y_predict\":prediction_output, \"y_true\":y_true}"
   ]
  },
  {
   "cell_type": "code",
   "execution_count": 88,
   "metadata": {
    "collapsed": true,
    "deletable": true,
    "editable": true,
    "scrolled": false
   },
   "outputs": [],
   "source": [
    "def score_rent(x_test, y_test, imp, rfe, poly, model):\n",
    "    data_transform = transform_data(x_test, imp, rfe, poly, model)\n",
    "    return model.score(data_transform, y_test)"
   ]
  },
  {
   "cell_type": "code",
   "execution_count": 110,
   "metadata": {
    "collapsed": false,
    "deletable": true,
    "editable": true,
    "scrolled": false
   },
   "outputs": [],
   "source": [
    "(imp, rfe, poly, model) = make_pipeline(x_train, y_train)"
   ]
  },
  {
   "cell_type": "code",
   "execution_count": 111,
   "metadata": {
    "collapsed": false,
    "deletable": true,
    "editable": true,
    "scrolled": false
   },
   "outputs": [
    {
     "name": "stdout",
     "output_type": "stream",
     "text": [
      "0.67111739571\n"
     ]
    }
   ],
   "source": [
    "prediction_output = predict_rent(x_test, y_test, imp, rfe, poly, model)\n",
    "print (score_rent(x_test, y_test, imp, rfe, poly, model))"
   ]
  }
 ],
 "metadata": {
  "kernelspec": {
   "display_name": "Python 3",
   "language": "python",
   "name": "python3"
  },
  "language_info": {
   "codemirror_mode": {
    "name": "ipython",
    "version": 3
   },
   "file_extension": ".py",
   "mimetype": "text/x-python",
   "name": "python",
   "nbconvert_exporter": "python",
   "pygments_lexer": "ipython3",
   "version": "3.5.2"
  }
 },
 "nbformat": 4,
 "nbformat_minor": 0
}
